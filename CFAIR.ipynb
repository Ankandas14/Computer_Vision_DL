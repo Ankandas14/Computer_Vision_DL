{
  "nbformat": 4,
  "nbformat_minor": 0,
  "metadata": {
    "colab": {
      "provenance": [],
      "gpuType": "T4",
      "authorship_tag": "ABX9TyMWm5nBMysmklXeT5qw60vG",
      "include_colab_link": true
    },
    "kernelspec": {
      "name": "python3",
      "display_name": "Python 3"
    },
    "language_info": {
      "name": "python"
    },
    "accelerator": "GPU",
    "widgets": {
      "application/vnd.jupyter.widget-state+json": {
        "734d91d1514b499697a064baa9d1a591": {
          "model_module": "@jupyter-widgets/controls",
          "model_name": "HBoxModel",
          "model_module_version": "1.5.0",
          "state": {
            "_dom_classes": [],
            "_model_module": "@jupyter-widgets/controls",
            "_model_module_version": "1.5.0",
            "_model_name": "HBoxModel",
            "_view_count": null,
            "_view_module": "@jupyter-widgets/controls",
            "_view_module_version": "1.5.0",
            "_view_name": "HBoxView",
            "box_style": "",
            "children": [
              "IPY_MODEL_3217fc21387f4776adfcfe7c6d9eb2af",
              "IPY_MODEL_8c357792995a4895a808096fb107055e",
              "IPY_MODEL_719229a7aea34301bf9b6ba0e2c64c02"
            ],
            "layout": "IPY_MODEL_d7b4314562644f378faca64a49b3a61f"
          }
        },
        "3217fc21387f4776adfcfe7c6d9eb2af": {
          "model_module": "@jupyter-widgets/controls",
          "model_name": "HTMLModel",
          "model_module_version": "1.5.0",
          "state": {
            "_dom_classes": [],
            "_model_module": "@jupyter-widgets/controls",
            "_model_module_version": "1.5.0",
            "_model_name": "HTMLModel",
            "_view_count": null,
            "_view_module": "@jupyter-widgets/controls",
            "_view_module_version": "1.5.0",
            "_view_name": "HTMLView",
            "description": "",
            "description_tooltip": null,
            "layout": "IPY_MODEL_4d1599e7c3ae4cf1ae0e7b9a4192356d",
            "placeholder": "​",
            "style": "IPY_MODEL_0593b917634a4fc6a2dc16a8ba8e07ae",
            "value": "  0%"
          }
        },
        "8c357792995a4895a808096fb107055e": {
          "model_module": "@jupyter-widgets/controls",
          "model_name": "FloatProgressModel",
          "model_module_version": "1.5.0",
          "state": {
            "_dom_classes": [],
            "_model_module": "@jupyter-widgets/controls",
            "_model_module_version": "1.5.0",
            "_model_name": "FloatProgressModel",
            "_view_count": null,
            "_view_module": "@jupyter-widgets/controls",
            "_view_module_version": "1.5.0",
            "_view_name": "ProgressView",
            "bar_style": "",
            "description": "",
            "description_tooltip": null,
            "layout": "IPY_MODEL_46a0809aef704683a64c360c4b52cd89",
            "max": 20,
            "min": 0,
            "orientation": "horizontal",
            "style": "IPY_MODEL_41c223fdb0d84352a2f20f2adee435f8",
            "value": 0
          }
        },
        "719229a7aea34301bf9b6ba0e2c64c02": {
          "model_module": "@jupyter-widgets/controls",
          "model_name": "HTMLModel",
          "model_module_version": "1.5.0",
          "state": {
            "_dom_classes": [],
            "_model_module": "@jupyter-widgets/controls",
            "_model_module_version": "1.5.0",
            "_model_name": "HTMLModel",
            "_view_count": null,
            "_view_module": "@jupyter-widgets/controls",
            "_view_module_version": "1.5.0",
            "_view_name": "HTMLView",
            "description": "",
            "description_tooltip": null,
            "layout": "IPY_MODEL_65c5b91ba58647b09cd013e731b4cd48",
            "placeholder": "​",
            "style": "IPY_MODEL_4696d0e1fa3f4b148e2f631b38cde84b",
            "value": " 0/20 [00:00&lt;?, ?it/s]"
          }
        },
        "d7b4314562644f378faca64a49b3a61f": {
          "model_module": "@jupyter-widgets/base",
          "model_name": "LayoutModel",
          "model_module_version": "1.2.0",
          "state": {
            "_model_module": "@jupyter-widgets/base",
            "_model_module_version": "1.2.0",
            "_model_name": "LayoutModel",
            "_view_count": null,
            "_view_module": "@jupyter-widgets/base",
            "_view_module_version": "1.2.0",
            "_view_name": "LayoutView",
            "align_content": null,
            "align_items": null,
            "align_self": null,
            "border": null,
            "bottom": null,
            "display": null,
            "flex": null,
            "flex_flow": null,
            "grid_area": null,
            "grid_auto_columns": null,
            "grid_auto_flow": null,
            "grid_auto_rows": null,
            "grid_column": null,
            "grid_gap": null,
            "grid_row": null,
            "grid_template_areas": null,
            "grid_template_columns": null,
            "grid_template_rows": null,
            "height": null,
            "justify_content": null,
            "justify_items": null,
            "left": null,
            "margin": null,
            "max_height": null,
            "max_width": null,
            "min_height": null,
            "min_width": null,
            "object_fit": null,
            "object_position": null,
            "order": null,
            "overflow": null,
            "overflow_x": null,
            "overflow_y": null,
            "padding": null,
            "right": null,
            "top": null,
            "visibility": null,
            "width": null
          }
        },
        "4d1599e7c3ae4cf1ae0e7b9a4192356d": {
          "model_module": "@jupyter-widgets/base",
          "model_name": "LayoutModel",
          "model_module_version": "1.2.0",
          "state": {
            "_model_module": "@jupyter-widgets/base",
            "_model_module_version": "1.2.0",
            "_model_name": "LayoutModel",
            "_view_count": null,
            "_view_module": "@jupyter-widgets/base",
            "_view_module_version": "1.2.0",
            "_view_name": "LayoutView",
            "align_content": null,
            "align_items": null,
            "align_self": null,
            "border": null,
            "bottom": null,
            "display": null,
            "flex": null,
            "flex_flow": null,
            "grid_area": null,
            "grid_auto_columns": null,
            "grid_auto_flow": null,
            "grid_auto_rows": null,
            "grid_column": null,
            "grid_gap": null,
            "grid_row": null,
            "grid_template_areas": null,
            "grid_template_columns": null,
            "grid_template_rows": null,
            "height": null,
            "justify_content": null,
            "justify_items": null,
            "left": null,
            "margin": null,
            "max_height": null,
            "max_width": null,
            "min_height": null,
            "min_width": null,
            "object_fit": null,
            "object_position": null,
            "order": null,
            "overflow": null,
            "overflow_x": null,
            "overflow_y": null,
            "padding": null,
            "right": null,
            "top": null,
            "visibility": null,
            "width": null
          }
        },
        "0593b917634a4fc6a2dc16a8ba8e07ae": {
          "model_module": "@jupyter-widgets/controls",
          "model_name": "DescriptionStyleModel",
          "model_module_version": "1.5.0",
          "state": {
            "_model_module": "@jupyter-widgets/controls",
            "_model_module_version": "1.5.0",
            "_model_name": "DescriptionStyleModel",
            "_view_count": null,
            "_view_module": "@jupyter-widgets/base",
            "_view_module_version": "1.2.0",
            "_view_name": "StyleView",
            "description_width": ""
          }
        },
        "46a0809aef704683a64c360c4b52cd89": {
          "model_module": "@jupyter-widgets/base",
          "model_name": "LayoutModel",
          "model_module_version": "1.2.0",
          "state": {
            "_model_module": "@jupyter-widgets/base",
            "_model_module_version": "1.2.0",
            "_model_name": "LayoutModel",
            "_view_count": null,
            "_view_module": "@jupyter-widgets/base",
            "_view_module_version": "1.2.0",
            "_view_name": "LayoutView",
            "align_content": null,
            "align_items": null,
            "align_self": null,
            "border": null,
            "bottom": null,
            "display": null,
            "flex": null,
            "flex_flow": null,
            "grid_area": null,
            "grid_auto_columns": null,
            "grid_auto_flow": null,
            "grid_auto_rows": null,
            "grid_column": null,
            "grid_gap": null,
            "grid_row": null,
            "grid_template_areas": null,
            "grid_template_columns": null,
            "grid_template_rows": null,
            "height": null,
            "justify_content": null,
            "justify_items": null,
            "left": null,
            "margin": null,
            "max_height": null,
            "max_width": null,
            "min_height": null,
            "min_width": null,
            "object_fit": null,
            "object_position": null,
            "order": null,
            "overflow": null,
            "overflow_x": null,
            "overflow_y": null,
            "padding": null,
            "right": null,
            "top": null,
            "visibility": null,
            "width": null
          }
        },
        "41c223fdb0d84352a2f20f2adee435f8": {
          "model_module": "@jupyter-widgets/controls",
          "model_name": "ProgressStyleModel",
          "model_module_version": "1.5.0",
          "state": {
            "_model_module": "@jupyter-widgets/controls",
            "_model_module_version": "1.5.0",
            "_model_name": "ProgressStyleModel",
            "_view_count": null,
            "_view_module": "@jupyter-widgets/base",
            "_view_module_version": "1.2.0",
            "_view_name": "StyleView",
            "bar_color": null,
            "description_width": ""
          }
        },
        "65c5b91ba58647b09cd013e731b4cd48": {
          "model_module": "@jupyter-widgets/base",
          "model_name": "LayoutModel",
          "model_module_version": "1.2.0",
          "state": {
            "_model_module": "@jupyter-widgets/base",
            "_model_module_version": "1.2.0",
            "_model_name": "LayoutModel",
            "_view_count": null,
            "_view_module": "@jupyter-widgets/base",
            "_view_module_version": "1.2.0",
            "_view_name": "LayoutView",
            "align_content": null,
            "align_items": null,
            "align_self": null,
            "border": null,
            "bottom": null,
            "display": null,
            "flex": null,
            "flex_flow": null,
            "grid_area": null,
            "grid_auto_columns": null,
            "grid_auto_flow": null,
            "grid_auto_rows": null,
            "grid_column": null,
            "grid_gap": null,
            "grid_row": null,
            "grid_template_areas": null,
            "grid_template_columns": null,
            "grid_template_rows": null,
            "height": null,
            "justify_content": null,
            "justify_items": null,
            "left": null,
            "margin": null,
            "max_height": null,
            "max_width": null,
            "min_height": null,
            "min_width": null,
            "object_fit": null,
            "object_position": null,
            "order": null,
            "overflow": null,
            "overflow_x": null,
            "overflow_y": null,
            "padding": null,
            "right": null,
            "top": null,
            "visibility": null,
            "width": null
          }
        },
        "4696d0e1fa3f4b148e2f631b38cde84b": {
          "model_module": "@jupyter-widgets/controls",
          "model_name": "DescriptionStyleModel",
          "model_module_version": "1.5.0",
          "state": {
            "_model_module": "@jupyter-widgets/controls",
            "_model_module_version": "1.5.0",
            "_model_name": "DescriptionStyleModel",
            "_view_count": null,
            "_view_module": "@jupyter-widgets/base",
            "_view_module_version": "1.2.0",
            "_view_name": "StyleView",
            "description_width": ""
          }
        }
      }
    }
  },
  "cells": [
    {
      "cell_type": "markdown",
      "metadata": {
        "id": "view-in-github",
        "colab_type": "text"
      },
      "source": [
        "<a href=\"https://colab.research.google.com/github/Ankandas14/Computer_Vision_DL/blob/main/CFAIR.ipynb\" target=\"_parent\"><img src=\"https://colab.research.google.com/assets/colab-badge.svg\" alt=\"Open In Colab\"/></a>"
      ]
    },
    {
      "cell_type": "code",
      "execution_count": null,
      "metadata": {
        "colab": {
          "base_uri": "https://localhost:8080/"
        },
        "id": "Tsc9JEWgEyOE",
        "outputId": "db0ce101-a83c-4873-f2fa-53d38338e8b9"
      },
      "outputs": [
        {
          "output_type": "stream",
          "name": "stdout",
          "text": [
            "Collecting torchinfo\n",
            "  Downloading torchinfo-1.8.0-py3-none-any.whl.metadata (21 kB)\n",
            "Downloading torchinfo-1.8.0-py3-none-any.whl (23 kB)\n",
            "Installing collected packages: torchinfo\n",
            "Successfully installed torchinfo-1.8.0\n",
            "Collecting torchmetrics\n",
            "  Downloading torchmetrics-1.7.4-py3-none-any.whl.metadata (21 kB)\n",
            "Requirement already satisfied: numpy>1.20.0 in /usr/local/lib/python3.11/dist-packages (from torchmetrics) (2.0.2)\n",
            "Requirement already satisfied: packaging>17.1 in /usr/local/lib/python3.11/dist-packages (from torchmetrics) (24.2)\n",
            "Requirement already satisfied: torch>=2.0.0 in /usr/local/lib/python3.11/dist-packages (from torchmetrics) (2.6.0+cu124)\n",
            "Collecting lightning-utilities>=0.8.0 (from torchmetrics)\n",
            "  Downloading lightning_utilities-0.14.3-py3-none-any.whl.metadata (5.6 kB)\n",
            "Requirement already satisfied: setuptools in /usr/local/lib/python3.11/dist-packages (from lightning-utilities>=0.8.0->torchmetrics) (75.2.0)\n",
            "Requirement already satisfied: typing_extensions in /usr/local/lib/python3.11/dist-packages (from lightning-utilities>=0.8.0->torchmetrics) (4.14.1)\n",
            "Requirement already satisfied: filelock in /usr/local/lib/python3.11/dist-packages (from torch>=2.0.0->torchmetrics) (3.18.0)\n",
            "Requirement already satisfied: networkx in /usr/local/lib/python3.11/dist-packages (from torch>=2.0.0->torchmetrics) (3.5)\n",
            "Requirement already satisfied: jinja2 in /usr/local/lib/python3.11/dist-packages (from torch>=2.0.0->torchmetrics) (3.1.6)\n",
            "Requirement already satisfied: fsspec in /usr/local/lib/python3.11/dist-packages (from torch>=2.0.0->torchmetrics) (2025.3.2)\n",
            "Collecting nvidia-cuda-nvrtc-cu12==12.4.127 (from torch>=2.0.0->torchmetrics)\n",
            "  Downloading nvidia_cuda_nvrtc_cu12-12.4.127-py3-none-manylinux2014_x86_64.whl.metadata (1.5 kB)\n",
            "Collecting nvidia-cuda-runtime-cu12==12.4.127 (from torch>=2.0.0->torchmetrics)\n",
            "  Downloading nvidia_cuda_runtime_cu12-12.4.127-py3-none-manylinux2014_x86_64.whl.metadata (1.5 kB)\n",
            "Collecting nvidia-cuda-cupti-cu12==12.4.127 (from torch>=2.0.0->torchmetrics)\n",
            "  Downloading nvidia_cuda_cupti_cu12-12.4.127-py3-none-manylinux2014_x86_64.whl.metadata (1.6 kB)\n",
            "Collecting nvidia-cudnn-cu12==9.1.0.70 (from torch>=2.0.0->torchmetrics)\n",
            "  Downloading nvidia_cudnn_cu12-9.1.0.70-py3-none-manylinux2014_x86_64.whl.metadata (1.6 kB)\n",
            "Collecting nvidia-cublas-cu12==12.4.5.8 (from torch>=2.0.0->torchmetrics)\n",
            "  Downloading nvidia_cublas_cu12-12.4.5.8-py3-none-manylinux2014_x86_64.whl.metadata (1.5 kB)\n",
            "Collecting nvidia-cufft-cu12==11.2.1.3 (from torch>=2.0.0->torchmetrics)\n",
            "  Downloading nvidia_cufft_cu12-11.2.1.3-py3-none-manylinux2014_x86_64.whl.metadata (1.5 kB)\n",
            "Collecting nvidia-curand-cu12==10.3.5.147 (from torch>=2.0.0->torchmetrics)\n",
            "  Downloading nvidia_curand_cu12-10.3.5.147-py3-none-manylinux2014_x86_64.whl.metadata (1.5 kB)\n",
            "Collecting nvidia-cusolver-cu12==11.6.1.9 (from torch>=2.0.0->torchmetrics)\n",
            "  Downloading nvidia_cusolver_cu12-11.6.1.9-py3-none-manylinux2014_x86_64.whl.metadata (1.6 kB)\n",
            "Collecting nvidia-cusparse-cu12==12.3.1.170 (from torch>=2.0.0->torchmetrics)\n",
            "  Downloading nvidia_cusparse_cu12-12.3.1.170-py3-none-manylinux2014_x86_64.whl.metadata (1.6 kB)\n",
            "Requirement already satisfied: nvidia-cusparselt-cu12==0.6.2 in /usr/local/lib/python3.11/dist-packages (from torch>=2.0.0->torchmetrics) (0.6.2)\n",
            "Requirement already satisfied: nvidia-nccl-cu12==2.21.5 in /usr/local/lib/python3.11/dist-packages (from torch>=2.0.0->torchmetrics) (2.21.5)\n",
            "Requirement already satisfied: nvidia-nvtx-cu12==12.4.127 in /usr/local/lib/python3.11/dist-packages (from torch>=2.0.0->torchmetrics) (12.4.127)\n",
            "Collecting nvidia-nvjitlink-cu12==12.4.127 (from torch>=2.0.0->torchmetrics)\n",
            "  Downloading nvidia_nvjitlink_cu12-12.4.127-py3-none-manylinux2014_x86_64.whl.metadata (1.5 kB)\n",
            "Requirement already satisfied: triton==3.2.0 in /usr/local/lib/python3.11/dist-packages (from torch>=2.0.0->torchmetrics) (3.2.0)\n",
            "Requirement already satisfied: sympy==1.13.1 in /usr/local/lib/python3.11/dist-packages (from torch>=2.0.0->torchmetrics) (1.13.1)\n",
            "Requirement already satisfied: mpmath<1.4,>=1.1.0 in /usr/local/lib/python3.11/dist-packages (from sympy==1.13.1->torch>=2.0.0->torchmetrics) (1.3.0)\n",
            "Requirement already satisfied: MarkupSafe>=2.0 in /usr/local/lib/python3.11/dist-packages (from jinja2->torch>=2.0.0->torchmetrics) (3.0.2)\n",
            "Downloading torchmetrics-1.7.4-py3-none-any.whl (963 kB)\n",
            "\u001b[2K   \u001b[90m━━━━━━━━━━━━━━━━━━━━━━━━━━━━━━━━━━━━━━━━\u001b[0m \u001b[32m963.5/963.5 kB\u001b[0m \u001b[31m14.6 MB/s\u001b[0m eta \u001b[36m0:00:00\u001b[0m\n",
            "\u001b[?25hDownloading lightning_utilities-0.14.3-py3-none-any.whl (28 kB)\n",
            "Downloading nvidia_cublas_cu12-12.4.5.8-py3-none-manylinux2014_x86_64.whl (363.4 MB)\n",
            "\u001b[2K   \u001b[90m━━━━━━━━━━━━━━━━━━━━━━━━━━━━━━━━━━━━━━━━\u001b[0m \u001b[32m363.4/363.4 MB\u001b[0m \u001b[31m4.4 MB/s\u001b[0m eta \u001b[36m0:00:00\u001b[0m\n",
            "\u001b[?25hDownloading nvidia_cuda_cupti_cu12-12.4.127-py3-none-manylinux2014_x86_64.whl (13.8 MB)\n",
            "\u001b[2K   \u001b[90m━━━━━━━━━━━━━━━━━━━━━━━━━━━━━━━━━━━━━━━━\u001b[0m \u001b[32m13.8/13.8 MB\u001b[0m \u001b[31m72.1 MB/s\u001b[0m eta \u001b[36m0:00:00\u001b[0m\n",
            "\u001b[?25hDownloading nvidia_cuda_nvrtc_cu12-12.4.127-py3-none-manylinux2014_x86_64.whl (24.6 MB)\n",
            "\u001b[2K   \u001b[90m━━━━━━━━━━━━━━━━━━━━━━━━━━━━━━━━━━━━━━━━\u001b[0m \u001b[32m24.6/24.6 MB\u001b[0m \u001b[31m54.5 MB/s\u001b[0m eta \u001b[36m0:00:00\u001b[0m\n",
            "\u001b[?25hDownloading nvidia_cuda_runtime_cu12-12.4.127-py3-none-manylinux2014_x86_64.whl (883 kB)\n",
            "\u001b[2K   \u001b[90m━━━━━━━━━━━━━━━━━━━━━━━━━━━━━━━━━━━━━━━━\u001b[0m \u001b[32m883.7/883.7 kB\u001b[0m \u001b[31m34.5 MB/s\u001b[0m eta \u001b[36m0:00:00\u001b[0m\n",
            "\u001b[?25hDownloading nvidia_cudnn_cu12-9.1.0.70-py3-none-manylinux2014_x86_64.whl (664.8 MB)\n",
            "\u001b[2K   \u001b[90m━━━━━━━━━━━━━━━━━━━━━━━━━━━━━━━━━━━━━━━━\u001b[0m \u001b[32m664.8/664.8 MB\u001b[0m \u001b[31m3.0 MB/s\u001b[0m eta \u001b[36m0:00:00\u001b[0m\n",
            "\u001b[?25hDownloading nvidia_cufft_cu12-11.2.1.3-py3-none-manylinux2014_x86_64.whl (211.5 MB)\n",
            "\u001b[2K   \u001b[90m━━━━━━━━━━━━━━━━━━━━━━━━━━━━━━━━━━━━━━━━\u001b[0m \u001b[32m211.5/211.5 MB\u001b[0m \u001b[31m6.1 MB/s\u001b[0m eta \u001b[36m0:00:00\u001b[0m\n",
            "\u001b[?25hDownloading nvidia_curand_cu12-10.3.5.147-py3-none-manylinux2014_x86_64.whl (56.3 MB)\n",
            "\u001b[2K   \u001b[90m━━━━━━━━━━━━━━━━━━━━━━━━━━━━━━━━━━━━━━━━\u001b[0m \u001b[32m56.3/56.3 MB\u001b[0m \u001b[31m11.8 MB/s\u001b[0m eta \u001b[36m0:00:00\u001b[0m\n",
            "\u001b[?25hDownloading nvidia_cusolver_cu12-11.6.1.9-py3-none-manylinux2014_x86_64.whl (127.9 MB)\n",
            "\u001b[2K   \u001b[90m━━━━━━━━━━━━━━━━━━━━━━━━━━━━━━━━━━━━━━━━\u001b[0m \u001b[32m127.9/127.9 MB\u001b[0m \u001b[31m8.1 MB/s\u001b[0m eta \u001b[36m0:00:00\u001b[0m\n",
            "\u001b[?25hDownloading nvidia_cusparse_cu12-12.3.1.170-py3-none-manylinux2014_x86_64.whl (207.5 MB)\n",
            "\u001b[2K   \u001b[90m━━━━━━━━━━━━━━━━━━━━━━━━━━━━━━━━━━━━━━━━\u001b[0m \u001b[32m207.5/207.5 MB\u001b[0m \u001b[31m5.9 MB/s\u001b[0m eta \u001b[36m0:00:00\u001b[0m\n",
            "\u001b[?25hDownloading nvidia_nvjitlink_cu12-12.4.127-py3-none-manylinux2014_x86_64.whl (21.1 MB)\n",
            "\u001b[2K   \u001b[90m━━━━━━━━━━━━━━━━━━━━━━━━━━━━━━━━━━━━━━━━\u001b[0m \u001b[32m21.1/21.1 MB\u001b[0m \u001b[31m82.9 MB/s\u001b[0m eta \u001b[36m0:00:00\u001b[0m\n",
            "\u001b[?25hInstalling collected packages: nvidia-nvjitlink-cu12, nvidia-curand-cu12, nvidia-cufft-cu12, nvidia-cuda-runtime-cu12, nvidia-cuda-nvrtc-cu12, nvidia-cuda-cupti-cu12, nvidia-cublas-cu12, lightning-utilities, nvidia-cusparse-cu12, nvidia-cudnn-cu12, nvidia-cusolver-cu12, torchmetrics\n",
            "  Attempting uninstall: nvidia-nvjitlink-cu12\n",
            "    Found existing installation: nvidia-nvjitlink-cu12 12.5.82\n",
            "    Uninstalling nvidia-nvjitlink-cu12-12.5.82:\n",
            "      Successfully uninstalled nvidia-nvjitlink-cu12-12.5.82\n",
            "  Attempting uninstall: nvidia-curand-cu12\n",
            "    Found existing installation: nvidia-curand-cu12 10.3.6.82\n",
            "    Uninstalling nvidia-curand-cu12-10.3.6.82:\n",
            "      Successfully uninstalled nvidia-curand-cu12-10.3.6.82\n",
            "  Attempting uninstall: nvidia-cufft-cu12\n",
            "    Found existing installation: nvidia-cufft-cu12 11.2.3.61\n",
            "    Uninstalling nvidia-cufft-cu12-11.2.3.61:\n",
            "      Successfully uninstalled nvidia-cufft-cu12-11.2.3.61\n",
            "  Attempting uninstall: nvidia-cuda-runtime-cu12\n",
            "    Found existing installation: nvidia-cuda-runtime-cu12 12.5.82\n",
            "    Uninstalling nvidia-cuda-runtime-cu12-12.5.82:\n",
            "      Successfully uninstalled nvidia-cuda-runtime-cu12-12.5.82\n",
            "  Attempting uninstall: nvidia-cuda-nvrtc-cu12\n",
            "    Found existing installation: nvidia-cuda-nvrtc-cu12 12.5.82\n",
            "    Uninstalling nvidia-cuda-nvrtc-cu12-12.5.82:\n",
            "      Successfully uninstalled nvidia-cuda-nvrtc-cu12-12.5.82\n",
            "  Attempting uninstall: nvidia-cuda-cupti-cu12\n",
            "    Found existing installation: nvidia-cuda-cupti-cu12 12.5.82\n",
            "    Uninstalling nvidia-cuda-cupti-cu12-12.5.82:\n",
            "      Successfully uninstalled nvidia-cuda-cupti-cu12-12.5.82\n",
            "  Attempting uninstall: nvidia-cublas-cu12\n",
            "    Found existing installation: nvidia-cublas-cu12 12.5.3.2\n",
            "    Uninstalling nvidia-cublas-cu12-12.5.3.2:\n",
            "      Successfully uninstalled nvidia-cublas-cu12-12.5.3.2\n",
            "  Attempting uninstall: nvidia-cusparse-cu12\n",
            "    Found existing installation: nvidia-cusparse-cu12 12.5.1.3\n",
            "    Uninstalling nvidia-cusparse-cu12-12.5.1.3:\n",
            "      Successfully uninstalled nvidia-cusparse-cu12-12.5.1.3\n",
            "  Attempting uninstall: nvidia-cudnn-cu12\n",
            "    Found existing installation: nvidia-cudnn-cu12 9.3.0.75\n",
            "    Uninstalling nvidia-cudnn-cu12-9.3.0.75:\n",
            "      Successfully uninstalled nvidia-cudnn-cu12-9.3.0.75\n",
            "  Attempting uninstall: nvidia-cusolver-cu12\n",
            "    Found existing installation: nvidia-cusolver-cu12 11.6.3.83\n",
            "    Uninstalling nvidia-cusolver-cu12-11.6.3.83:\n",
            "      Successfully uninstalled nvidia-cusolver-cu12-11.6.3.83\n",
            "Successfully installed lightning-utilities-0.14.3 nvidia-cublas-cu12-12.4.5.8 nvidia-cuda-cupti-cu12-12.4.127 nvidia-cuda-nvrtc-cu12-12.4.127 nvidia-cuda-runtime-cu12-12.4.127 nvidia-cudnn-cu12-9.1.0.70 nvidia-cufft-cu12-11.2.1.3 nvidia-curand-cu12-10.3.5.147 nvidia-cusolver-cu12-11.6.1.9 nvidia-cusparse-cu12-12.3.1.170 nvidia-nvjitlink-cu12-12.4.127 torchmetrics-1.7.4\n"
          ]
        }
      ],
      "source": [
        "import numpy as np\n",
        "import os\n",
        "import torch\n",
        "from torchvision.datasets import mnist\n",
        "from torch.nn import CrossEntropyLoss\n",
        "from torch.optim import SGD\n",
        "from torch.utils.data import DataLoader\n",
        "from torchvision.transforms import ToTensor\n",
        "import matplotlib.pyplot as plt\n",
        "from torch import nn\n",
        "!pip install torchinfo\n",
        "!pip install torchmetrics\n",
        "from torchinfo import summary\n",
        "from torchmetrics import Accuracy\n"
      ]
    },
    {
      "cell_type": "code",
      "source": [
        "from torchvision import datasets\n",
        "import torchvision.transforms as transforms\n",
        "from torch.utils.data.sampler import SubsetRandomSampler"
      ],
      "metadata": {
        "id": "12tb9jqY_C7p"
      },
      "execution_count": null,
      "outputs": []
    },
    {
      "cell_type": "code",
      "source": [
        "# Check if CUDA is available and set the device accordingly\n",
        "device = torch.device('cuda' if torch.cuda.is_available() else 'cpu')\n",
        "print(f'Using device: {device}')\n",
        "\n",
        "# If CUDA is available, print the CUDA device name\n",
        "if device.type == 'cuda':\n",
        "    print(torch.cuda.get_device_name(0))"
      ],
      "metadata": {
        "colab": {
          "base_uri": "https://localhost:8080/"
        },
        "id": "aR_2ujZxHqwk",
        "outputId": "bf78caf3-49e4-43a8-953d-3972dae6a907"
      },
      "execution_count": null,
      "outputs": [
        {
          "output_type": "stream",
          "name": "stdout",
          "text": [
            "Using device: cpu\n"
          ]
        }
      ]
    },
    {
      "cell_type": "markdown",
      "source": [
        "The CIFAR-10 dataset consists of 60000 32x32 colour images in 10 classes, with 6000 images per class. There are 50000 training images and 10000 test images.\n",
        "\n",
        "Here are the classes in the dataset:\n",
        "\n",
        "airplane\n",
        "automobile\n",
        "bird\n",
        "cat\n",
        "deer\n",
        "dog\n",
        "frog\n",
        "horse\n",
        "ship\n",
        "truck"
      ],
      "metadata": {
        "id": "oQSJ4erMIHxp"
      }
    },
    {
      "cell_type": "markdown",
      "source": [
        "Data Preparation and Augmentation\n",
        "\n",
        "1. transforms.RandomCrop(32, padding=4): Randomly crops the image to a size of 32x32 pixels after padding it by 4 pixels.\n",
        "2. transforms.RandomHorizontalFlip(): Randomly flips the image horizontally.\n",
        "\n",
        "3. transforms.ToTensor(): Converts the image from a PIL Image or NumPy array to a PyTorch tensor.\n",
        "\n",
        "\n",
        "\n"
      ],
      "metadata": {
        "id": "Ivlzzuq-qwPh"
      }
    },
    {
      "cell_type": "code",
      "source": [
        "# convert data to a normalized torch.FloatTensor\n",
        "print('==> Preparing data..')\n",
        "#Image augmentation is used to train the model\n",
        "transform_train = transforms.Compose([\n",
        "    transforms.RandomCrop(32, padding=4),\n",
        "    transforms.RandomHorizontalFlip(),\n",
        "    transforms.ToTensor(),\n",
        "    transforms.Normalize((0.4914, 0.4822, 0.4465), (0.2023, 0.1994, 0.2010)),\n",
        "])\n",
        "#Only the data is normalaized we do not need to augment the test data\n",
        "transform_test = transforms.Compose([\n",
        "    transforms.ToTensor(),\n",
        "    transforms.Normalize((0.4914, 0.4822, 0.4465), (0.2023, 0.1994, 0.2010)),\n",
        "])\n",
        "#Only the data is normalaized we do not need to augment the test data\n",
        "transform_test = transforms.Compose([\n",
        "    transforms.ToTensor(),\n",
        "    transforms.Normalize((0.4914, 0.4822, 0.4465), (0.2023, 0.1994, 0.2010)),\n",
        "])"
      ],
      "metadata": {
        "colab": {
          "base_uri": "https://localhost:8080/"
        },
        "id": "vUlQK0wfqyyP",
        "outputId": "faf1171f-8fc6-4409-9f89-2590117b69e4"
      },
      "execution_count": null,
      "outputs": [
        {
          "output_type": "stream",
          "name": "stdout",
          "text": [
            "==> Preparing data..\n"
          ]
        }
      ]
    },
    {
      "cell_type": "code",
      "source": [
        "# choose the training and test datasets\n",
        "train_data = datasets.CIFAR10('data', train=True,\n",
        "                              download=True, transform=transform_train)\n",
        "test_data = datasets.CIFAR10('data', train=False,\n",
        "                             download=True, transform=transform_test)"
      ],
      "metadata": {
        "id": "JzSkMRNl_Xor"
      },
      "execution_count": null,
      "outputs": []
    },
    {
      "cell_type": "code",
      "source": [
        "class_names = train_data.classes\n",
        "\n",
        "class_names"
      ],
      "metadata": {
        "colab": {
          "base_uri": "https://localhost:8080/"
        },
        "id": "fsBuvraM_t1k",
        "outputId": "d0675f3d-0b61-4068-d3c8-f78ec4080800"
      },
      "execution_count": null,
      "outputs": [
        {
          "output_type": "execute_result",
          "data": {
            "text/plain": [
              "['airplane',\n",
              " 'automobile',\n",
              " 'bird',\n",
              " 'cat',\n",
              " 'deer',\n",
              " 'dog',\n",
              " 'frog',\n",
              " 'horse',\n",
              " 'ship',\n",
              " 'truck']"
            ]
          },
          "metadata": {},
          "execution_count": 12
        }
      ]
    },
    {
      "cell_type": "code",
      "source": [
        "## look into the data we've downloaded\n",
        "import random\n",
        "\n",
        "rand_idx = random.sample(range(len(train_data)),k=16)\n",
        "\n",
        "plt.figure(figsize=(10,10))\n",
        "\n",
        "for i , idx in enumerate(rand_idx):\n",
        "\n",
        "  img , label = train_data[idx]\n",
        "\n",
        "  #the image tensor's range is not between 0 and 1,so we have to temporarily scale the tensor values into range 0 and 1 to prevent error.\n",
        "  img = (img - img.min()) / (img.max() - img.min())\n",
        "\n",
        "  img_class = class_names[label]\n",
        "\n",
        "  plt.subplot(4,4,i+1)\n",
        "  plt.imshow(img.permute(1,2,0))\n",
        "  plt.title(f\"Class : {img_class}\",fontsize=10)\n",
        "  plt.axis(False)"
      ],
      "metadata": {
        "colab": {
          "base_uri": "https://localhost:8080/",
          "height": 826
        },
        "id": "sRzfh_pCBSrL",
        "outputId": "75e783b5-a9f2-451c-bfc8-43a682de12dc"
      },
      "execution_count": null,
      "outputs": [
        {
          "output_type": "display_data",
          "data": {
            "text/plain": [
              "<Figure size 1000x1000 with 16 Axes>"
            ],
            "image/png": "[encoded data removed]"
          },
          "metadata": {}
        }
      ]
    },
    {
      "cell_type": "markdown",
      "source": [
        "Load the Data"
      ],
      "metadata": {
        "id": "VMGXh2EIJdij"
      }
    },
    {
      "cell_type": "code",
      "source": [
        "NUM_WORKERS = os.cpu_count()\n",
        "print(f'Number of workers: {NUM_WORKERS}')\n",
        "BATCH_SIZE = 800\n",
        "\n",
        "train_dataloader = DataLoader(dataset=train_data,\n",
        "                              batch_size=BATCH_SIZE,\n",
        "                              num_workers=NUM_WORKERS,\n",
        "                              shuffle=True)\n",
        "\n",
        "test_dataloader = DataLoader(dataset=test_data,\n",
        "                             batch_size=BATCH_SIZE,\n",
        "                             num_workers=NUM_WORKERS,\n",
        "                             shuffle=False)"
      ],
      "metadata": {
        "id": "mkc5rlhqJYBt",
        "colab": {
          "base_uri": "https://localhost:8080/"
        },
        "outputId": "57e46bce-6998-49b2-dc42-32f2de8560ca"
      },
      "execution_count": null,
      "outputs": [
        {
          "output_type": "stream",
          "name": "stdout",
          "text": [
            "Number of workers: 2\n"
          ]
        }
      ]
    },
    {
      "cell_type": "code",
      "source": [
        "# train loop function\n",
        "def train_step(model:nn.Module,\n",
        "               dataloader:torch.utils.data.DataLoader,\n",
        "               loss_fn:nn.Module,\n",
        "               optimizer:torch.optim.Optimizer,\n",
        "               scheduler:torch.optim.lr_scheduler = None,\n",
        "               grad_clip:float=None):\n",
        "\n",
        "  model.train()\n",
        "\n",
        "  train_loss , train_acc = 0 , 0\n",
        "\n",
        "  for batch , (X,y) in enumerate(dataloader):\n",
        "\n",
        "    X , y = X.to(device) , y.to(device)\n",
        "    y_pred = model(X)\n",
        "    loss = loss_fn(y_pred,y)\n",
        "    train_loss += loss.item()\n",
        "    optimizer.zero_grad()\n",
        "    loss.backward()\n",
        "\n",
        "    if grad_clip:\n",
        "      nn.utils.clip_grad_value_(model.parameters(), grad_clip)\n",
        "\n",
        "    optimizer.step()\n",
        "    y_pred_class = torch.argmax(y_pred,dim=1)\n",
        "    train_acc += (y_pred_class == y).sum().item() / len(y)\n",
        "\n",
        "  train_loss /= len(dataloader)\n",
        "  train_acc /= len(dataloader)\n",
        "\n",
        "  if scheduler is not None:\n",
        "    scheduler.step(train_loss)\n",
        "\n",
        "\n",
        "  return train_loss , train_acc"
      ],
      "metadata": {
        "id": "bXajd862Jhaw"
      },
      "execution_count": null,
      "outputs": []
    },
    {
      "cell_type": "code",
      "source": [],
      "metadata": {
        "id": "uJupusJ7hfqf"
      },
      "execution_count": null,
      "outputs": []
    },
    {
      "cell_type": "code",
      "source": [
        "def test_step(model:nn.Module,\n",
        "              dataloader:torch.utils.data.DataLoader,\n",
        "              loss_fn:nn.Module):\n",
        "\n",
        "  model.eval()\n",
        "\n",
        "  test_loss , test_acc = 0 , 0\n",
        "\n",
        "  with torch.inference_mode():\n",
        "    for batch , (X,y) in enumerate(dataloader):\n",
        "      X , y = X.to(device) , y.to(device)\n",
        "      test_pred_logits = model(X)\n",
        "      loss = loss_fn(test_pred_logits,y)\n",
        "      test_loss += loss.item()\n",
        "      test_pred_labels = torch.argmax(test_pred_logits,dim=1)\n",
        "      test_acc += (test_pred_labels == y).sum().item() / len(y)\n",
        "\n",
        "    test_loss /= len(dataloader)\n",
        "    test_acc /= len(dataloader)\n",
        "\n",
        "  return test_loss , test_acc"
      ],
      "metadata": {
        "id": "vYSmBSWThTzq"
      },
      "execution_count": null,
      "outputs": []
    },
    {
      "cell_type": "code",
      "source": [
        "#Creating a train() function to combine train_step() and test_step()\n",
        "\n",
        "from tqdm.auto import tqdm\n",
        "\n",
        "def train(model: torch.nn.Module,\n",
        "          train_dataloader: torch.utils.data.DataLoader,\n",
        "          test_dataloader: torch.utils.data.DataLoader,\n",
        "          optimizer: torch.optim.Optimizer,\n",
        "          scheduler:torch.optim.lr_scheduler,\n",
        "          grad_clip:float=None,\n",
        "          loss_fn: torch.nn.Module = nn.CrossEntropyLoss(),\n",
        "          epochs: int = 10):\n",
        "\n",
        "    results = {\"train_loss\": [],\n",
        "        \"train_acc\": [],\n",
        "        \"test_loss\": [],\n",
        "        \"test_acc\": []\n",
        "    }\n",
        "\n",
        "    for epoch in tqdm(range(epochs)):\n",
        "        train_loss, train_acc = train_step(model=model,\n",
        "                                           dataloader=train_dataloader,\n",
        "                                           loss_fn=loss_fn,\n",
        "                                           optimizer=optimizer,\n",
        "                                           scheduler=scheduler,\n",
        "                                           grad_clip=grad_clip)\n",
        "        test_loss, test_acc = test_step(model=model,\n",
        "            dataloader=test_dataloader,\n",
        "            loss_fn=loss_fn)\n",
        "\n",
        "\n",
        "        print(\n",
        "            f\"Epoch: {epoch+1} | \"\n",
        "            f\"train_loss: {train_loss:.4f} | \"\n",
        "            f\"train_acc: {train_acc:.4f} | \"\n",
        "            f\"test_loss: {test_loss:.4f} | \"\n",
        "            f\"test_acc: {test_acc:.4f}\"\n",
        "        )\n",
        "\n",
        "\n",
        "        results[\"train_loss\"].append(train_loss)\n",
        "        results[\"train_acc\"].append(train_acc)\n",
        "        results[\"test_loss\"].append(test_loss)\n",
        "        results[\"test_acc\"].append(test_acc)\n",
        "\n",
        "    return results"
      ],
      "metadata": {
        "id": "7GJ3VnpWhg6u"
      },
      "execution_count": null,
      "outputs": []
    },
    {
      "cell_type": "code",
      "source": [
        "# function to plot loss & accuracy curve\n",
        "from typing import Dict, List\n",
        "\n",
        "def plot_loss_curves(results: Dict[str, List[float]]):\n",
        "\n",
        "\n",
        "    # Get the loss values of the results dictionary (training and test)\n",
        "    loss = results['train_loss']\n",
        "    test_loss = results['test_loss']\n",
        "\n",
        "    # Get the accuracy values of the results dictionary (training and test)\n",
        "    accuracy = results['train_acc']\n",
        "    test_accuracy = results['test_acc']\n",
        "\n",
        "    # Figure out how many epochs there were\n",
        "    epochs = range(len(results['train_loss']))\n",
        "\n",
        "    # Setup a plot\n",
        "    plt.figure(figsize=(15, 7))\n",
        "\n",
        "    # Plot loss\n",
        "    plt.subplot(1, 2, 1)\n",
        "    plt.plot(epochs, loss, label='train_loss')\n",
        "    plt.plot(epochs, test_loss, label='test_loss')\n",
        "    plt.title('Loss')\n",
        "    plt.xlabel('Epochs')\n",
        "    plt.grid()\n",
        "    plt.legend()\n",
        "\n",
        "\n",
        "    # Plot accuracy\n",
        "    plt.subplot(1, 2, 2)\n",
        "    plt.plot(epochs, accuracy, label='train_accuracy')\n",
        "    plt.plot(epochs, test_accuracy, label='test_accuracy')\n",
        "    plt.title('Accuracy')\n",
        "    plt.xlabel('Epochs')\n",
        "    plt.grid()\n",
        "    plt.legend()"
      ],
      "metadata": {
        "id": "3TIhDqDBhqR7"
      },
      "execution_count": null,
      "outputs": []
    },
    {
      "cell_type": "markdown",
      "source": [
        "RESNET\n",
        "\n",
        "![image.png](data:image/png;base64,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)"
      ],
      "metadata": {
        "id": "en8hFq3NoaWM"
      }
    },
    {
      "cell_type": "code",
      "source": [
        "# create Resnet model class\n",
        "\n",
        "class ResNet9(nn.Module):\n",
        "    def conv_block(self, input_channels, output_channels, use_pool=False):\n",
        "        layers = [nn.Conv2d(input_channels, output_channels, kernel_size=3, padding=1),\n",
        "                  nn.BatchNorm2d(output_channels),\n",
        "                  nn.ReLU(inplace=True)]\n",
        "        if use_pool: layers.append(nn.MaxPool2d(2))\n",
        "        return nn.Sequential(*layers)\n",
        "\n",
        "    def __init__(self, input_channels, number_classes):\n",
        "        super().__init__()\n",
        "\n",
        "        self.conv1 = self.conv_block(input_channels, 64)\n",
        "        self.conv2 = self.conv_block(64, 128, use_pool=True)\n",
        "        self.residual1 = nn.Sequential(self.conv_block(128, 128), self.conv_block(128, 128))\n",
        "\n",
        "        self.conv3 = self.conv_block(128, 256, use_pool=True)\n",
        "        self.conv4 = self.conv_block(256, 512, use_pool=True)\n",
        "        self.residual2 = nn.Sequential(self.conv_block(512, 512), self.conv_block(512, 512))\n",
        "\n",
        "        self.classifier = nn.Sequential(nn.MaxPool2d(4),\n",
        "                                        nn.Flatten(),\n",
        "                                        nn.Linear(512, number_classes))\n",
        "\n",
        "    def forward(self, xb):\n",
        "        layer1 = self.conv1(xb)\n",
        "        layer2 = self.conv2(layer1)\n",
        "        residual1 = self.residual1(layer2) + layer2\n",
        "        layer3 = self.conv3(residual1)\n",
        "        layer4 = self.conv4(layer3)\n",
        "        residual2 = self.residual2(layer4) + layer4\n",
        "        class_output = self.classifier(residual2)\n",
        "        return class_output"
      ],
      "metadata": {
        "id": "O8DC5vKFoYrs"
      },
      "execution_count": null,
      "outputs": []
    },
    {
      "cell_type": "code",
      "source": [
        "model_0 = ResNet9(3,10).to(device)\n",
        "#[batch_size,color_channels,width,height]\n",
        "summary(model_0, input_size=[1, 3, 32, 32])"
      ],
      "metadata": {
        "colab": {
          "base_uri": "https://localhost:8080/"
        },
        "id": "amP2IwRYo4e6",
        "outputId": "8eaddece-df92-41de-f7d2-146a10c47ed8"
      },
      "execution_count": null,
      "outputs": [
        {
          "output_type": "execute_result",
          "data": {
            "text/plain": [
              "==========================================================================================\n",
              "Layer (type:depth-idx)                   Output Shape              Param #\n",
              "==========================================================================================\n",
              "ResNet9                                  [1, 10]                   --\n",
              "├─Sequential: 1-1                        [1, 64, 32, 32]           --\n",
              "│    └─Conv2d: 2-1                       [1, 64, 32, 32]           1,792\n",
              "│    └─BatchNorm2d: 2-2                  [1, 64, 32, 32]           128\n",
              "│    └─ReLU: 2-3                         [1, 64, 32, 32]           --\n",
              "├─Sequential: 1-2                        [1, 128, 16, 16]          --\n",
              "│    └─Conv2d: 2-4                       [1, 128, 32, 32]          73,856\n",
              "│    └─BatchNorm2d: 2-5                  [1, 128, 32, 32]          256\n",
              "│    └─ReLU: 2-6                         [1, 128, 32, 32]          --\n",
              "│    └─MaxPool2d: 2-7                    [1, 128, 16, 16]          --\n",
              "├─Sequential: 1-3                        [1, 128, 16, 16]          --\n",
              "│    └─Sequential: 2-8                   [1, 128, 16, 16]          --\n",
              "│    │    └─Conv2d: 3-1                  [1, 128, 16, 16]          147,584\n",
              "│    │    └─BatchNorm2d: 3-2             [1, 128, 16, 16]          256\n",
              "│    │    └─ReLU: 3-3                    [1, 128, 16, 16]          --\n",
              "│    └─Sequential: 2-9                   [1, 128, 16, 16]          --\n",
              "│    │    └─Conv2d: 3-4                  [1, 128, 16, 16]          147,584\n",
              "│    │    └─BatchNorm2d: 3-5             [1, 128, 16, 16]          256\n",
              "│    │    └─ReLU: 3-6                    [1, 128, 16, 16]          --\n",
              "├─Sequential: 1-4                        [1, 256, 8, 8]            --\n",
              "│    └─Conv2d: 2-10                      [1, 256, 16, 16]          295,168\n",
              "│    └─BatchNorm2d: 2-11                 [1, 256, 16, 16]          512\n",
              "│    └─ReLU: 2-12                        [1, 256, 16, 16]          --\n",
              "│    └─MaxPool2d: 2-13                   [1, 256, 8, 8]            --\n",
              "├─Sequential: 1-5                        [1, 512, 4, 4]            --\n",
              "│    └─Conv2d: 2-14                      [1, 512, 8, 8]            1,180,160\n",
              "│    └─BatchNorm2d: 2-15                 [1, 512, 8, 8]            1,024\n",
              "│    └─ReLU: 2-16                        [1, 512, 8, 8]            --\n",
              "│    └─MaxPool2d: 2-17                   [1, 512, 4, 4]            --\n",
              "├─Sequential: 1-6                        [1, 512, 4, 4]            --\n",
              "│    └─Sequential: 2-18                  [1, 512, 4, 4]            --\n",
              "│    │    └─Conv2d: 3-7                  [1, 512, 4, 4]            2,359,808\n",
              "│    │    └─BatchNorm2d: 3-8             [1, 512, 4, 4]            1,024\n",
              "│    │    └─ReLU: 3-9                    [1, 512, 4, 4]            --\n",
              "│    └─Sequential: 2-19                  [1, 512, 4, 4]            --\n",
              "│    │    └─Conv2d: 3-10                 [1, 512, 4, 4]            2,359,808\n",
              "│    │    └─BatchNorm2d: 3-11            [1, 512, 4, 4]            1,024\n",
              "│    │    └─ReLU: 3-12                   [1, 512, 4, 4]            --\n",
              "├─Sequential: 1-7                        [1, 10]                   --\n",
              "│    └─MaxPool2d: 2-20                   [1, 512, 1, 1]            --\n",
              "│    └─Flatten: 2-21                     [1, 512]                  --\n",
              "│    └─Linear: 2-22                      [1, 10]                   5,130\n",
              "==========================================================================================\n",
              "Total params: 6,575,370\n",
              "Trainable params: 6,575,370\n",
              "Non-trainable params: 0\n",
              "Total mult-adds (Units.MEGABYTES): 379.64\n",
              "==========================================================================================\n",
              "Input size (MB): 0.01\n",
              "Forward/backward pass size (MB): 6.03\n",
              "Params size (MB): 26.30\n",
              "Estimated Total Size (MB): 32.34\n",
              "=========================================================================================="
            ]
          },
          "metadata": {},
          "execution_count": 23
        }
      ]
    },
    {
      "cell_type": "markdown",
      "source": [
        "Hyperparameters Tunning\n",
        "\n",
        "NUM_EPOCHS : how many times the whole set of training data will run through the neural network\n",
        "learning_rate : s like adjusting how big of a step the model takes when it's learning\n",
        "weight_decay : model's weight values\n",
        "grad_clip"
      ],
      "metadata": {
        "id": "ZG9u_xappINt"
      }
    },
    {
      "cell_type": "code",
      "source": [
        "# Let's train\n",
        "NUM_EPOCHS = 20\n",
        "learning_rate = 0.01\n",
        "weight_decay = 15e-5\n",
        "grad_clip = 0.0001\n",
        "\n",
        "loss_fn = nn.CrossEntropyLoss()\n",
        "\n",
        "optimizer = torch.optim.Adam(model_0.parameters(),lr=learning_rate,weight_decay=weight_decay)\n",
        "\n",
        "scheduler = torch.optim.lr_scheduler.ReduceLROnPlateau(optimizer=optimizer,mode='min',verbose=True,factor=0.3,patience=3,threshold=0.09)\n",
        "\n",
        "\n",
        "from timeit import default_timer as timer\n",
        "start_time = timer()\n",
        "\n",
        "\n",
        "model_0_results = train(model=model_0,\n",
        "                        train_dataloader=train_dataloader,\n",
        "                        test_dataloader=test_dataloader,\n",
        "                        optimizer=optimizer,\n",
        "                        scheduler=scheduler,\n",
        "                        grad_clip=grad_clip,\n",
        "                        loss_fn=loss_fn,\n",
        "                        epochs=NUM_EPOCHS)\n",
        "\n",
        "\n",
        "end_time = timer()\n",
        "print(f\"Total training time: {end_time-start_time:.3f} seconds\")"
      ],
      "metadata": {
        "colab": {
          "base_uri": "https://localhost:8080/",
          "height": 49,
          "referenced_widgets": [
            "734d91d1514b499697a064baa9d1a591",
            "3217fc21387f4776adfcfe7c6d9eb2af",
            "8c357792995a4895a808096fb107055e",
            "719229a7aea34301bf9b6ba0e2c64c02",
            "d7b4314562644f378faca64a49b3a61f",
            "4d1599e7c3ae4cf1ae0e7b9a4192356d",
            "0593b917634a4fc6a2dc16a8ba8e07ae",
            "46a0809aef704683a64c360c4b52cd89",
            "41c223fdb0d84352a2f20f2adee435f8",
            "65c5b91ba58647b09cd013e731b4cd48",
            "4696d0e1fa3f4b148e2f631b38cde84b"
          ]
        },
        "id": "osW2Ql7MpBI1",
        "outputId": "cd628caf-700d-43f0-abb8-0698fccb0bd7"
      },
      "execution_count": null,
      "outputs": [
        {
          "data": {
            "application/vnd.jupyter.widget-view+json": {
              "model_id": "734d91d1514b499697a064baa9d1a591",
              "version_major": 2,
              "version_minor": 0
            },
            "text/plain": [
              "  0%|          | 0/20 [00:00<?, ?it/s]"
            ]
          },
          "metadata": {},
          "output_type": "display_data"
        }
      ]
    }
  ]
}